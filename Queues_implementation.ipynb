{
  "nbformat": 4,
  "nbformat_minor": 0,
  "metadata": {
    "colab": {
      "name": "Queues implementation.ipynb",
      "provenance": [],
      "collapsed_sections": [],
      "authorship_tag": "ABX9TyNoAHS7VU/YrqQj7Ehu/XLf",
      "include_colab_link": true
    },
    "kernelspec": {
      "name": "python3",
      "display_name": "Python 3"
    }
  },
  "cells": [
    {
      "cell_type": "markdown",
      "metadata": {
        "id": "view-in-github",
        "colab_type": "text"
      },
      "source": [
        "<a href=\"https://colab.research.google.com/github/AitAhmed99/Introduction-to-Data-Science-in-Python/blob/master/Queues_implementation.ipynb\" target=\"_parent\"><img src=\"https://colab.research.google.com/assets/colab-badge.svg\" alt=\"Open In Colab\"/></a>"
      ]
    },
    {
      "cell_type": "code",
      "metadata": {
        "id": "gAzXOfUFwGfI",
        "colab_type": "code",
        "colab": {}
      },
      "source": [
        "## Implementing queues using circular arrays\n",
        "class Queue:\n",
        "  def __init__(self, capacity):\n",
        "    self.capacity = capacity\n",
        "    self.data = [None]*capacity\n",
        "    self.front = 0\n",
        "    self.back = 0  #first empty cell in queue\n",
        "    self.size = 0\n",
        "\n",
        "  def is_empty(self):\n",
        "    return self.size==0\n",
        "\n",
        "  def is_full(self):\n",
        "    return self.size == self.capacity\n",
        "\n",
        "  def enqueue (self, value):\n",
        "    if self.is_full():\n",
        "      print (\"Can't enqueue, Queue is full!\")\n",
        "      return\n",
        "    self.data[self.back] = value\n",
        "    self.back = (self.back + 1)%self.capacity\n",
        "    self.size += 1\n",
        "\n",
        "  def dequeue(self):\n",
        "    if self.is_empty():\n",
        "      print (\"Can't dequeue, Queue is empty!\")\n",
        "      return\n",
        "    to_dequeue = self.data[self.front]\n",
        "    self.front = (self.front + 1)%self.capacity\n",
        "    self.size -= 1\n",
        "    return to_dequeue\n",
        "\n",
        "  def peek(self):\n",
        "    if self.is_empty():\n",
        "      print (\"Can't dequeue, Queue is empty!\")\n",
        "      return None\n",
        "\n",
        "    return self.data[self.front]"
      ],
      "execution_count": 0,
      "outputs": []
    },
    {
      "cell_type": "code",
      "metadata": {
        "id": "Cg700NgMv7D0",
        "colab_type": "code",
        "colab": {}
      },
      "source": [
        "## Implementing Queues with linked list\n",
        "\n",
        "class node:\n",
        "  def __init__(self, data, next=None):\n",
        "    self.data =data\n",
        "    self.next=next\n",
        "\n",
        "\n",
        "class Queue:\n",
        "  def __init__(self, capacity) : \n",
        "    self.front = None\n",
        "    self.back = None\n",
        "    self.capacity = capacity\n",
        "    self.size = 0\n",
        "\n",
        "  def is_full(self):\n",
        "    return self.size == self.capacity\n",
        "\n",
        "  def is_empty(self):\n",
        "    return self.size == 0\n",
        "\n",
        "  def enqueue(self, value):\n",
        "    if self.is_full():\n",
        "      return (\"Can't enqueue, it's full!\")\n",
        "\n",
        "    newnode = node(value)\n",
        "    if self.front == None:\n",
        "      self.front = newnode\n",
        "      self.back = newnode\n",
        "      self.size += 1\n",
        "    else :\n",
        "      self.back.next = newnode\n",
        "      self.back = newnode\n",
        "      self.size += 1\n",
        "\n",
        "  def dequeue(self):\n",
        "    if self.is_empty():\n",
        "      print (\"Can't dequeue, it's empty!\")\n",
        "      return None\n",
        "    to_dequeue = self.front.data\n",
        "    self.front = self.front.next\n",
        "    self.size -=1\n",
        "    return to_dequeue\n",
        "\n",
        "  def peek(self):\n",
        "    if self.is_empty():\n",
        "      return (\"Can't dequeue, it's empty!\")\n",
        "\n",
        "    return self.front.data"
      ],
      "execution_count": 0,
      "outputs": []
    },
    {
      "cell_type": "code",
      "metadata": {
        "id": "wN4HlrfUwLd0",
        "colab_type": "code",
        "colab": {
          "base_uri": "https://localhost:8080/",
          "height": 34
        },
        "outputId": "677c43bf-ecec-4152-8919-6f250fccd531"
      },
      "source": [
        "c = Queue(capacity = 3)\n",
        "\n",
        "c.enqueue(1)\n",
        "c.enqueue(2)\n",
        "c.enqueue(3)\n",
        "assert c.dequeue() == 1\n",
        "assert c.dequeue() == 2\n",
        "c.enqueue(4)\n",
        "assert c.dequeue() == 3\n",
        "c.peek()\n",
        "c.dequeue()\n",
        "assert c.dequeue()==None"
      ],
      "execution_count": 6,
      "outputs": [
        {
          "output_type": "stream",
          "text": [
            "Can't dequeue, it's empty!\n"
          ],
          "name": "stdout"
        }
      ]
    },
    {
      "cell_type": "code",
      "metadata": {
        "id": "LVCoyDhawY9z",
        "colab_type": "code",
        "colab": {}
      },
      "source": [
        ""
      ],
      "execution_count": 0,
      "outputs": []
    }
  ]
}